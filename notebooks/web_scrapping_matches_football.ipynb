{
 "cells": [
  {
   "cell_type": "code",
   "execution_count": 1,
   "id": "a57a2457",
   "metadata": {},
   "outputs": [],
   "source": [
    "import requests\n",
    "from bs4 import BeautifulSoup\n",
    "import pandas as pd"
   ]
  },
  {
   "cell_type": "code",
   "execution_count": 21,
   "id": "0da66603",
   "metadata": {},
   "outputs": [],
   "source": [
    "def matches_from_scrapping(url_web,league,jornada):\n",
    "\n",
    "    # Send a GET request to fetch the page content\n",
    "    response = requests.get(url_web)\n",
    "    soup = BeautifulSoup(response.content, \"html.parser\")\n",
    "    jornada_block = soup.find(\"div\", {\"id\":jornada})\n",
    "\n",
    "\n",
    "    if jornada_block:\n",
    "        # Find all rows within the \"jornada x\" block\n",
    "        rows = jornada_block.find_all('tr', id=lambda x: x and x.startswith('sel_'))\n",
    "\n",
    "        team_names = []\n",
    "\n",
    "        for row in rows:\n",
    "            # Get local team\n",
    "            local_team = row.find('td', class_='col-equipo-local').find('span', class_='nombre-equipo').get_text(strip=True)\n",
    "            # Get visitor team\n",
    "            visitor_team = row.find('td', class_='col-equipo-visitante').find('span', class_='nombre-equipo').get_text(strip=True)\n",
    "\n",
    "            team_names.append((local_team, visitor_team))\n",
    "    else:\n",
    "        print(f\"{jornada} block not found.\")    \n",
    "    \n",
    "    df_web = pd.DataFrame(team_names, columns=['LT', 'VT'])\n",
    "    \n",
    "    # Load the CSV from the google sheets link into a DataFrame\n",
    "    df_xlsx = pd.read_excel(\"teams_web.xlsx\", sheet_name=league)\n",
    "    \n",
    "    # Create a mapping from 'web' to 'football_data_uk'\n",
    "    mapping = dict(zip(df_xlsx['as web'], df_xlsx['football-data_uk']))\n",
    "\n",
    "    # Replace values in both LT and VT columns of table_1 using the mapping\n",
    "    df_web['LT'] = df_web['LT'].replace(mapping)\n",
    "    df_web['VT'] = df_web['VT'].replace(mapping)\n",
    "    \n",
    "    return df_web\n",
    "\n",
    "\n",
    "\n",
    "if __name__ == \"__main__\":\n",
    "\n",
    "    jornada = 8\n",
    "    jornada = \"jornada-\" + str(jornada)\n",
    "    league = \"inglaterra\"\n",
    "    url_web = f\"https://colombia.as.com/resultados/futbol/{league}/calendario/\"\n",
    "        \n",
    "    df_matches = matches_from_scrapping(url_web,league,jornada)\n",
    "    "
   ]
  },
  {
   "cell_type": "code",
   "execution_count": null,
   "id": "51f9fa9f",
   "metadata": {},
   "outputs": [],
   "source": []
  },
  {
   "cell_type": "code",
   "execution_count": 23,
   "id": "edfbc67c",
   "metadata": {},
   "outputs": [],
   "source": [
    "#df_matches"
   ]
  },
  {
   "cell_type": "code",
   "execution_count": null,
   "id": "ddba7082",
   "metadata": {},
   "outputs": [],
   "source": []
  }
 ],
 "metadata": {
  "kernelspec": {
   "display_name": "Python 3 (ipykernel)",
   "language": "python",
   "name": "python3"
  },
  "language_info": {
   "codemirror_mode": {
    "name": "ipython",
    "version": 3
   },
   "file_extension": ".py",
   "mimetype": "text/x-python",
   "name": "python",
   "nbconvert_exporter": "python",
   "pygments_lexer": "ipython3",
   "version": "3.10.9"
  }
 },
 "nbformat": 4,
 "nbformat_minor": 5
}
